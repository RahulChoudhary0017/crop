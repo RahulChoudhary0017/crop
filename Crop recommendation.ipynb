{
 "cells": [
  {
   "cell_type": "code",
   "execution_count": null,
   "id": "cef989a5",
   "metadata": {},
   "outputs": [],
   "source": [
    "import pandas as pd"
   ]
  },
  {
   "cell_type": "code",
   "execution_count": null,
   "id": "3e33790c",
   "metadata": {},
   "outputs": [],
   "source": [
    "crop = pd.read_csv(\"farmer.csv\")\n",
    "crop"
   ]
  },
  {
   "cell_type": "code",
   "execution_count": null,
   "id": "9d4e37c8",
   "metadata": {},
   "outputs": [],
   "source": [
    "crop.head()"
   ]
  },
  {
   "cell_type": "code",
   "execution_count": null,
   "id": "90955f2c",
   "metadata": {},
   "outputs": [],
   "source": [
    "crop.tail()"
   ]
  },
  {
   "cell_type": "code",
   "execution_count": null,
   "id": "18c5fc18",
   "metadata": {},
   "outputs": [],
   "source": [
    "crop.info()"
   ]
  },
  {
   "cell_type": "code",
   "execution_count": null,
   "id": "191b6f19",
   "metadata": {},
   "outputs": [],
   "source": [
    "crop.describe()"
   ]
  },
  {
   "cell_type": "code",
   "execution_count": null,
   "id": "e98fb1a7",
   "metadata": {},
   "outputs": [],
   "source": [
    "crop.dtypes"
   ]
  },
  {
   "cell_type": "code",
   "execution_count": null,
   "id": "7087a6b2",
   "metadata": {},
   "outputs": [],
   "source": [
    "crop.duplicated()"
   ]
  },
  {
   "cell_type": "code",
   "execution_count": null,
   "id": "df634dcc",
   "metadata": {},
   "outputs": [],
   "source": [
    "crop.duplicated().sum()"
   ]
  },
  {
   "cell_type": "code",
   "execution_count": null,
   "id": "0d97ae47",
   "metadata": {},
   "outputs": [],
   "source": [
    "crop.isnull()"
   ]
  },
  {
   "cell_type": "code",
   "execution_count": null,
   "id": "2562a151",
   "metadata": {},
   "outputs": [],
   "source": [
    "crop.isnull().sum()"
   ]
  },
  {
   "cell_type": "code",
   "execution_count": null,
   "id": "5e11ba6e",
   "metadata": {},
   "outputs": [],
   "source": [
    "crop.drop_duplicates(inplace=True)  ###inplace == true\n",
    "crop"
   ]
  },
  {
   "cell_type": "code",
   "execution_count": null,
   "id": "10c131a8",
   "metadata": {},
   "outputs": [],
   "source": [
    "crop.duplicated().sum() "
   ]
  },
  {
   "cell_type": "code",
   "execution_count": null,
   "id": "76ba9c90",
   "metadata": {},
   "outputs": [],
   "source": [
    "crop.dropna() "
   ]
  },
  {
   "cell_type": "code",
   "execution_count": null,
   "id": "a1056a32",
   "metadata": {},
   "outputs": [],
   "source": [
    "crop['label']"
   ]
  },
  {
   "cell_type": "code",
   "execution_count": null,
   "id": "53347fc2",
   "metadata": {},
   "outputs": [],
   "source": [
    "crop['label'].unique()"
   ]
  },
  {
   "cell_type": "code",
   "execution_count": null,
   "id": "d4711172",
   "metadata": {},
   "outputs": [],
   "source": [
    "crop['label'].value_counts()"
   ]
  },
  {
   "cell_type": "code",
   "execution_count": null,
   "id": "a747a59c",
   "metadata": {},
   "outputs": [],
   "source": [
    "label_dict = {\n",
    "'rice':1,\n",
    "'maize':2,\n",
    "'jute':3,\n",
    "'cotton':4,\n",
    "'coconut':5,\n",
    "'papaya':6,\n",
    "'orange':7,\n",
    "'apple':8,\n",
    "'muskmelon':9,\n",
    "'watermelon':10,\n",
    "'grapes':11,\n",
    "'mango':12,\n",
    "'banana':13,\n",
    "'pomegranate':14,\n",
    "'lentil':15,\n",
    "'blackgram':16,\n",
    "'mungbean':17,\n",
    "'mothbeans':18,\n",
    "'pigeonpeas':19,\n",
    "'kidneybeans':20,\n",
    "'chickpea':21,\n",
    "'coffee': 22,\n",
    "}"
   ]
  },
  {
   "cell_type": "code",
   "execution_count": null,
   "id": "68d98015",
   "metadata": {},
   "outputs": [],
   "source": [
    "label_dict"
   ]
  },
  {
   "cell_type": "code",
   "execution_count": null,
   "id": "a95de5a5",
   "metadata": {},
   "outputs": [],
   "source": [
    "crop['label']=crop['label'].map(label_dict)"
   ]
  },
  {
   "cell_type": "code",
   "execution_count": null,
   "id": "a0ecf9bc",
   "metadata": {},
   "outputs": [],
   "source": [
    "crop"
   ]
  },
  {
   "cell_type": "code",
   "execution_count": null,
   "id": "58a76432",
   "metadata": {},
   "outputs": [],
   "source": [
    "x = crop.drop('label',axis=1)\n",
    "y = crop['label']"
   ]
  },
  {
   "cell_type": "code",
   "execution_count": null,
   "id": "1f8d5fe5",
   "metadata": {},
   "outputs": [],
   "source": [
    "x"
   ]
  },
  {
   "cell_type": "code",
   "execution_count": null,
   "id": "dfef0cca",
   "metadata": {},
   "outputs": [],
   "source": [
    "y"
   ]
  },
  {
   "cell_type": "code",
   "execution_count": null,
   "id": "d2bebaf4",
   "metadata": {},
   "outputs": [],
   "source": [
    "%pip install scikit-learn"
   ]
  },
  {
   "cell_type": "code",
   "execution_count": null,
   "id": "d3819a90",
   "metadata": {},
   "outputs": [],
   "source": [
    "from sklearn.model_selection import train_test_split\n",
    "x_train, x_test, y_train, y_test = train_test_split(x, y, random_state=42, test_size=0.2)"
   ]
  },
  {
   "cell_type": "code",
   "execution_count": null,
   "id": "70688eb6",
   "metadata": {},
   "outputs": [],
   "source": [
    "x_train"
   ]
  },
  {
   "cell_type": "code",
   "execution_count": null,
   "id": "eb261df4",
   "metadata": {},
   "outputs": [],
   "source": [
    "y_train"
   ]
  },
  {
   "cell_type": "code",
   "execution_count": null,
   "id": "722b345b",
   "metadata": {},
   "outputs": [],
   "source": [
    "x_test"
   ]
  },
  {
   "cell_type": "code",
   "execution_count": null,
   "id": "57c7b1ee",
   "metadata": {},
   "outputs": [],
   "source": [
    "y_test"
   ]
  },
  {
   "cell_type": "code",
   "execution_count": null,
   "id": "bf45105a",
   "metadata": {},
   "outputs": [],
   "source": [
    "x_test.shape,y_test.shape,x_train.shape,y_train.shape"
   ]
  },
  {
   "cell_type": "code",
   "execution_count": null,
   "id": "305ee590",
   "metadata": {},
   "outputs": [],
   "source": [
    "from sklearn.svm import SVR\n",
    "sv= SVR()\n",
    "sv.fit(x_train,y_train)\n",
    "print(sv.score(x_train,y_train))\n",
    "print(sv.score(x_test,y_test))"
   ]
  },
  {
   "cell_type": "code",
   "execution_count": null,
   "id": "30562bf1",
   "metadata": {},
   "outputs": [],
   "source": [
    "from sklearn.datasets import load_iris\n",
    "x , y = load_iris(return_X_y=True)"
   ]
  },
  {
   "cell_type": "code",
   "execution_count": null,
   "id": "11c56890",
   "metadata": {},
   "outputs": [],
   "source": [
    "x"
   ]
  },
  {
   "cell_type": "code",
   "execution_count": null,
   "id": "65dd1bb1",
   "metadata": {},
   "outputs": [],
   "source": [
    "y"
   ]
  },
  {
   "cell_type": "code",
   "execution_count": null,
   "id": "78bf844d",
   "metadata": {},
   "outputs": [],
   "source": [
    "from sklearn .svm import SVC\n",
    "sv = SVC()\n",
    "sv.fit(x, y)"
   ]
  },
  {
   "cell_type": "code",
   "execution_count": null,
   "id": "9b2ecf8f",
   "metadata": {},
   "outputs": [],
   "source": [
    "from sklearn.neighbors import KNeighborsClassifier\n",
    "knn = KNeighborsClassifier()\n",
    "knn.fit(x, y)\n",
    "knn.score(x, y)"
   ]
  },
  {
   "cell_type": "code",
   "execution_count": null,
   "id": "e8ccede3",
   "metadata": {},
   "outputs": [],
   "source": [
    "from sklearn.linear_model import LinearRegression"
   ]
  },
  {
   "cell_type": "code",
   "execution_count": null,
   "id": "6ac5c572",
   "metadata": {},
   "outputs": [],
   "source": [
    "lr = LinearRegression()\n",
    "lr.fit(x_train, y_train)"
   ]
  },
  {
   "cell_type": "code",
   "execution_count": null,
   "id": "9de54369",
   "metadata": {},
   "outputs": [],
   "source": [
    "lr.score(x_test,y_test)"
   ]
  },
  {
   "cell_type": "code",
   "execution_count": null,
   "id": "7377aca3",
   "metadata": {},
   "outputs": [],
   "source": [
    "pred=lr.predict(x_test)"
   ]
  },
  {
   "cell_type": "code",
   "execution_count": null,
   "id": "bbb48da2",
   "metadata": {},
   "outputs": [],
   "source": [
    "pred"
   ]
  },
  {
   "cell_type": "code",
   "execution_count": null,
   "id": "ddb0174a",
   "metadata": {},
   "outputs": [],
   "source": [
    "from sklearn.tree import DecisionTreeRegressor , DecisionTreeClassifier\n",
    "dt = DecisionTreeClassifier()\n",
    "dt.fit(x_train, y_train)"
   ]
  },
  {
   "cell_type": "code",
   "execution_count": null,
   "id": "9ceb97d1",
   "metadata": {},
   "outputs": [],
   "source": [
    "dt.score(x_test, y_test)"
   ]
  },
  {
   "cell_type": "code",
   "execution_count": null,
   "id": "211acb2b",
   "metadata": {},
   "outputs": [],
   "source": [
    "import joblib\n",
    "joblib.dump(dt, 'model.joblib')"
   ]
  },
  {
   "cell_type": "code",
   "execution_count": null,
   "id": "81776e4d",
   "metadata": {},
   "outputs": [],
   "source": [
    "model = joblib.load('model.joblib')"
   ]
  },
  {
   "cell_type": "code",
   "execution_count": null,
   "id": "d17c2f81",
   "metadata": {},
   "outputs": [],
   "source": [
    "model.predict(x_test)"
   ]
  },
  {
   "cell_type": "code",
   "execution_count": null,
   "id": "10bfa5ac",
   "metadata": {},
   "outputs": [],
   "source": [
    "y_test"
   ]
  },
  {
   "cell_type": "code",
   "execution_count": null,
   "id": "db5a0e77",
   "metadata": {},
   "outputs": [],
   "source": [
    "from sklearn.ensemble import RandomForestRegressor,RandomForestClassifier\n",
    "rfc = RandomForestClassifier()\n",
    "from sklearn.datasets import load_breast_cancer \n",
    "x , y = load_breast_cancer(return_X_y=True)\n",
    "from sklearn.model_selection import train_test_split\n",
    "x_train, x_test, y_train, y_test = train_test_split(x, y, random_state = 42, test_size = 0.2)\n",
    "rfc.fit(x_train, y_train)"
   ]
  },
  {
   "cell_type": "code",
   "execution_count": null,
   "id": "9c6800a9",
   "metadata": {},
   "outputs": [],
   "source": [
    "rfc.score(x_test, y_test)"
   ]
  },
  {
   "cell_type": "code",
   "execution_count": null,
   "id": "372b9fe2",
   "metadata": {},
   "outputs": [],
   "source": [
    "rfc.predict(x_test)"
   ]
  },
  {
   "cell_type": "code",
   "execution_count": null,
   "id": "0aadac01",
   "metadata": {},
   "outputs": [],
   "source": [
    "y_test"
   ]
  },
  {
   "cell_type": "code",
   "execution_count": null,
   "id": "c010e70f",
   "metadata": {},
   "outputs": [],
   "source": [
    "from sklearn.naive_bayes import GaussianNB, MultinomialNB, BernoulliNB\n",
    "from sklearn.datasets import load_breast_cancer\n",
    "x,y = load_breast_cancer(return_X_y=True)\n",
    "from sklearn.model_selection import train_test_split\n",
    "x_train, x_test, y_train, y_test = train_test_split(x, y, random_state = 42, test_size = 0.2)\n",
    "\n",
    "#cell;\n",
    "gnb = GaussianNB()\n",
    "gnb.fit(x_train, y_train)"
   ]
  },
  {
   "cell_type": "code",
   "execution_count": null,
   "id": "a5edd9eb",
   "metadata": {},
   "outputs": [],
   "source": [
    "from sklearn.cluster import KMeans\n",
    "from sklearn.datasets import load_breast_cancer\n",
    "from sklearn.model_selection import train_test_split\n",
    "x, y = load_breast_cancer(return_X_y=True)\n",
    "x_train, x_test, y_train, y_test = train_test_split(x, y, random_state=42, test_size=0.2)\n",
    "\n",
    "#cell;\n",
    "km = KMeans(n_clusters=2, random_state=42)  \n",
    "km.fit(x_train)\n"
   ]
  }
 ],
 "metadata": {
  "kernelspec": {
   "display_name": "Python 3",
   "language": "python",
   "name": "python3"
  },
  "language_info": {
   "codemirror_mode": {
    "name": "ipython",
    "version": 3
   },
   "file_extension": ".py",
   "mimetype": "text/x-python",
   "name": "python",
   "nbconvert_exporter": "python",
   "pygments_lexer": "ipython3",
   "version": "3.10.11"
  }
 },
 "nbformat": 4,
 "nbformat_minor": 5
}
